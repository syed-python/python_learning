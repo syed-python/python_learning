{
  "cells": [
    {
      "cell_type": "code",
      "execution_count": null,
      "metadata": {
        "id": "PBUrnX204T6w"
      },
      "outputs": [],
      "source": [
        "#### Data Types #######"
      ]
    },
    {
      "cell_type": "code",
      "execution_count": null,
      "metadata": {
        "id": "1CzclSCp4T6y"
      },
      "outputs": [],
      "source": [
        "x=210 \n",
        "y=21.23\n",
        "z='str'\n",
        "b=True\n",
        "n=None"
      ]
    },
    {
      "cell_type": "code",
      "execution_count": null,
      "metadata": {
        "id": "1QRLxMyF4T6z",
        "outputId": "a5d4ad48-4b1b-4e05-dbe0-ce6c7f9cbe9b"
      },
      "outputs": [
        {
          "data": {
            "text/plain": [
              "int"
            ]
          },
          "execution_count": 5,
          "metadata": {},
          "output_type": "execute_result"
        }
      ],
      "source": [
        "type(x)"
      ]
    },
    {
      "cell_type": "code",
      "execution_count": null,
      "metadata": {
        "id": "U63KQTcZ4T6z",
        "outputId": "0b444dac-a1e3-4110-ce17-1336ee1fd154"
      },
      "outputs": [
        {
          "data": {
            "text/plain": [
              "float"
            ]
          },
          "execution_count": 6,
          "metadata": {},
          "output_type": "execute_result"
        }
      ],
      "source": [
        "type(y)"
      ]
    },
    {
      "cell_type": "code",
      "execution_count": null,
      "metadata": {
        "id": "Hij6OQs-4T60",
        "outputId": "1818d1b4-9435-4956-e039-5981c0322f7d"
      },
      "outputs": [
        {
          "data": {
            "text/plain": [
              "str"
            ]
          },
          "execution_count": 7,
          "metadata": {},
          "output_type": "execute_result"
        }
      ],
      "source": [
        "type(z)"
      ]
    },
    {
      "cell_type": "code",
      "execution_count": null,
      "metadata": {
        "id": "WpoIncAd4T60",
        "outputId": "01cb119d-4635-48e2-fc44-c81ecd1f4a12"
      },
      "outputs": [
        {
          "data": {
            "text/plain": [
              "bool"
            ]
          },
          "execution_count": 8,
          "metadata": {},
          "output_type": "execute_result"
        }
      ],
      "source": [
        "type(b)"
      ]
    },
    {
      "cell_type": "code",
      "execution_count": null,
      "metadata": {
        "id": "XIHGWCPu4T61",
        "outputId": "aa640d61-2b11-4230-f39c-54e3f94d1299"
      },
      "outputs": [
        {
          "data": {
            "text/plain": [
              "NoneType"
            ]
          },
          "execution_count": 10,
          "metadata": {},
          "output_type": "execute_result"
        }
      ],
      "source": [
        "type(n)"
      ]
    },
    {
      "cell_type": "code",
      "execution_count": null,
      "metadata": {
        "id": "VjD1ZjcE4T61"
      },
      "outputs": [],
      "source": [
        "#### Comments #######"
      ]
    },
    {
      "cell_type": "code",
      "execution_count": null,
      "metadata": {
        "id": "qXj9ewJq4T62",
        "outputId": "a0c3eeb0-31b4-4420-85b1-e1e52668d45d"
      },
      "outputs": [
        {
          "data": {
            "text/plain": [
              "'\\nThis is a comment\\n'"
            ]
          },
          "execution_count": 14,
          "metadata": {},
          "output_type": "execute_result"
        }
      ],
      "source": [
        "#Single line comments \n",
        "'''\n",
        "This is a comment\n",
        "'''\n",
        "\n",
        "\"\"\"\n",
        "This is a comment\n",
        "\"\"\""
      ]
    },
    {
      "cell_type": "code",
      "execution_count": null,
      "metadata": {
        "id": "Y3KKopBP4T62"
      },
      "outputs": [],
      "source": [
        "#### Variables and Printing ###### "
      ]
    },
    {
      "cell_type": "code",
      "execution_count": null,
      "metadata": {
        "id": "peyr5q_54T63",
        "outputId": "f0471695-7325-4832-e314-75fcc27c4a96"
      },
      "outputs": [
        {
          "name": "stdout",
          "output_type": "stream",
          "text": [
            "Test Print add additional values\n",
            "Second Line\n"
          ]
        }
      ],
      "source": [
        "print('Test Print', 'add additional values') ### \\n - new line variable is available in the end by default \n",
        "print('Second Line')"
      ]
    },
    {
      "cell_type": "code",
      "execution_count": null,
      "metadata": {
        "id": "aKLxleUb4T63",
        "outputId": "92293cb8-169a-427c-fbaa-a87c6cb48fa5"
      },
      "outputs": [
        {
          "name": "stdout",
          "output_type": "stream",
          "text": [
            "Test Print to new line\n",
            " add additional values\n"
          ]
        }
      ],
      "source": [
        "print('Test Print to new line\\n', 'add additional values') ### \\n - new line variable "
      ]
    },
    {
      "cell_type": "code",
      "execution_count": null,
      "metadata": {
        "id": "x1ZwoEo94T63",
        "outputId": "a9b91aea-5abb-4f53-8d5c-dd47109dd2d3"
      },
      "outputs": [
        {
          "name": "stdout",
          "output_type": "stream",
          "text": [
            "First Line Second Word|Second Line\n"
          ]
        }
      ],
      "source": [
        "print('First Line', 'Second Word', end = '|') ### Pipe Separator, here we are changing default \\n (new line) to end with pipe \n",
        "print('Second Line')"
      ]
    },
    {
      "cell_type": "code",
      "execution_count": 1,
      "metadata": {
        "id": "QJK_HWtV4T64",
        "outputId": "15786f3f-8616-4202-f020-c7b74eee593f",
        "colab": {
          "base_uri": "https://localhost:8080/"
        }
      },
      "outputs": [
        {
          "output_type": "stream",
          "name": "stdout",
          "text": [
            "Syed Basha Shaik\n"
          ]
        }
      ],
      "source": [
        "print('Syed Basha Shaik')"
      ]
    },
    {
      "cell_type": "code",
      "source": [
        ""
      ],
      "metadata": {
        "id": "WX4LWbiz4XrW"
      },
      "execution_count": null,
      "outputs": []
    }
  ],
  "metadata": {
    "kernelspec": {
      "display_name": "Python 3.7.4 64-bit",
      "language": "python",
      "name": "python3"
    },
    "language_info": {
      "codemirror_mode": {
        "name": "ipython",
        "version": 3
      },
      "file_extension": ".py",
      "mimetype": "text/x-python",
      "name": "python",
      "nbconvert_exporter": "python",
      "pygments_lexer": "ipython3",
      "version": "3.7.4"
    },
    "orig_nbformat": 4,
    "vscode": {
      "interpreter": {
        "hash": "252189e587d1e2aeba4a06e91fa71896c7a7f6e22e918b9407c7cde4ef2d5985"
      }
    },
    "colab": {
      "name": "01_Programming Fundamentals.ipynb",
      "provenance": []
    }
  },
  "nbformat": 4,
  "nbformat_minor": 0
}